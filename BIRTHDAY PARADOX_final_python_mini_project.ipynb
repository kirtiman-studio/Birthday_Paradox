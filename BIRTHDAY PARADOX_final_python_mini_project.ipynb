{
 "cells": [
  {
   "cell_type": "code",
   "execution_count": 3,
   "id": "25f3c7ad",
   "metadata": {},
   "outputs": [
    {
     "name": "stdout",
     "output_type": "stream",
     "text": [
      "Out of the 100,000 simulations there are 50737 people have matching birthday\n"
     ]
    }
   ],
   "source": [
    "# BIRTHDAY PARADOX\n",
    "\n",
    "# This is the problem I tried to solve from Al Sweigart's book 'Big book of small python projects\"\n",
    "# It may be crude and seems less professional as I am a new python learner and tried to solve the problem leaving the professional sophistications. \n",
    "# Please let me know any of the changes that can improve the code. \n",
    "# Constructive suggestions are always welcome. \n",
    "\n",
    "count1 = 0\n",
    "count2 = 0\n",
    "count3 = 0\n",
    "count4 = 0\n",
    "# initializations of the variables used in the code\n",
    "\n",
    "\n",
    "    \n",
    "while count1 <= 100000: # Total number of simulations here it was used for 100,000 timesfor the more aqurate value\n",
    "\n",
    "    \n",
    "    bdy_date =[]   # empty string of the birthdays is defind \n",
    "    while count2 <23: # cosidered for the 23 people in a group for the simulation \n",
    "        import random\n",
    "        rand_date = random.randint(1, 366) # generating random birthdays of 23 people in 366 days of a year, consdering Feb is 29 days. \n",
    "        \n",
    "        if rand_date in bdy_date:    # checking condition of gnerated random date is present or not in bdy_date\n",
    "            \n",
    "            count3 +=1 # if there is a matching date present in the bdy_date will add 1 to the count3 \n",
    "            \n",
    "            \n",
    "            if count3 == 1:  # if count3 is one, means there is a matching day is available, we dont use >=1 as needed atleast 1 matching birthday in a 23 people group\n",
    "                \n",
    "                count4 += 1  # count4 will make a record how many of the matching days were recorded\n",
    "                \n",
    "        bdy_date.append(rand_date) # appending the new generated birthday in the intialized empty bdy_date string\n",
    "        \n",
    "        count2 = count2 +1 # increasing the count of the people to run the while loop to have the total 23 people in the group\n",
    "        \n",
    "        \n",
    "    count1 = count1+1  # increasing the count of the simulation each time of the 23 group of people to find the matching birthday\n",
    "    count2 = 0 \n",
    "    count3 = 0\n",
    "    # count2 and count3 initializing to zero such that it does not count extra numbers in each simulation from previous count\n",
    "    \n",
    "    bdy_date =[]\n",
    "    # birthday date also initialised to make empty after each simulation for the next simulation to append new random birthdays\n",
    "    \n",
    "    \n",
    "print('Out of the 100,000 simulations there are', count4, 'people have matching birthday')    "
   ]
  }
 ],
 "metadata": {
  "kernelspec": {
   "display_name": "Python 3",
   "language": "python",
   "name": "python3"
  },
  "language_info": {
   "codemirror_mode": {
    "name": "ipython",
    "version": 3
   },
   "file_extension": ".py",
   "mimetype": "text/x-python",
   "name": "python",
   "nbconvert_exporter": "python",
   "pygments_lexer": "ipython3",
   "version": "3.8.8"
  }
 },
 "nbformat": 4,
 "nbformat_minor": 5
}
